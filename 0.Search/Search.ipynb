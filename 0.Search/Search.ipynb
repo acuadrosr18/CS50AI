{
 "cells": [
  {
   "cell_type": "code",
   "execution_count": 1,
   "metadata": {},
   "outputs": [
    {
     "name": "stdout",
     "output_type": "stream",
     "text": [
      "Search\n"
     ]
    }
   ],
   "source": [
    "print(\"Search\")"
   ]
  },
  {
   "cell_type": "markdown",
   "metadata": {},
   "source": [
    "Depth-first search (DFS) approach."
   ]
  },
  {
   "cell_type": "code",
   "execution_count": 5,
   "metadata": {},
   "outputs": [],
   "source": [
    "# Define the function that removes a node from the frontier and returns it.\n",
    "def remove_dfs(self):\n",
    "        # Terminate the search if the frontier is empty, because this means that there is no solution.\n",
    "    if self.empty():\n",
    "        raise Exception(\"empty frontier\")\n",
    "    else:\n",
    "            # Save the last item in the list (which is the newest node added)\n",
    "        node = self.frontier[-1]\n",
    "        # Save all the items on the list besides the last node (i.e. removing the last node)\n",
    "        self.frontier = self.frontier[:-1]\n",
    "        return node"
   ]
  },
  {
   "cell_type": "markdown",
   "metadata": {},
   "source": [
    "Breadth-First Search (BFS) approach"
   ]
  },
  {
   "cell_type": "code",
   "execution_count": 6,
   "metadata": {},
   "outputs": [],
   "source": [
    "# Define the function that removes a node from the frontier and returns it.\n",
    "def remove_bfs(self):\n",
    "        # Terminate the search if the frontier is empty, because this means that there is no solution.\n",
    "    if self.empty():\n",
    "        raise Exception(\"empty frontier\")\n",
    "    else:\n",
    "        # Save the oldest item on the list (which was the first one to be added)\n",
    "        node = self.frontier[0]\n",
    "        # Save all the items on the list besides the first one (i.e. removing the first node)\n",
    "        self.frontier = self.frontier[1:]\n",
    "        return node"
   ]
  }
 ],
 "metadata": {
  "kernelspec": {
   "display_name": "Python 3",
   "language": "python",
   "name": "python3"
  },
  "language_info": {
   "codemirror_mode": {
    "name": "ipython",
    "version": 3
   },
   "file_extension": ".py",
   "mimetype": "text/x-python",
   "name": "python",
   "nbconvert_exporter": "python",
   "pygments_lexer": "ipython3",
   "version": "3.12.5"
  }
 },
 "nbformat": 4,
 "nbformat_minor": 2
}
