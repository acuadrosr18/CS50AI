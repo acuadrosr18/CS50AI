import seaborn as sns
from seaborn import load_dataset
import matplotlib.pyplot as plt

# Load the diamonds dataset from seaborn
diamonds = load_dataset('diamonds')

# Plot a histogram with bin width 0.5
sns.histplot(data=diamonds, x='carat', binwidth=0.5)

# Show the plot
plt.show()
